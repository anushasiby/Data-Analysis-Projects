{
 "cells": [
  {
   "cell_type": "code",
   "execution_count": 1,
   "id": "2ca57bae",
   "metadata": {},
   "outputs": [
    {
     "name": "stdout",
     "output_type": "stream",
     "text": [
      "Requirement already satisfied: GoogleNews in c:\\users\\anushasiby\\anaconda3\\lib\\site-packages (1.6.8)\n",
      "Requirement already satisfied: beautifulsoup4 in c:\\users\\anushasiby\\anaconda3\\lib\\site-packages (from GoogleNews) (4.11.1)\n",
      "Requirement already satisfied: dateparser in c:\\users\\anushasiby\\anaconda3\\lib\\site-packages (from GoogleNews) (1.1.8)\n",
      "Requirement already satisfied: python-dateutil in c:\\users\\anushasiby\\anaconda3\\lib\\site-packages (from GoogleNews) (2.8.2)\n",
      "Requirement already satisfied: soupsieve>1.2 in c:\\users\\anushasiby\\anaconda3\\lib\\site-packages (from beautifulsoup4->GoogleNews) (2.3.2.post1)\n",
      "Requirement already satisfied: regex!=2019.02.19,!=2021.8.27 in c:\\users\\anushasiby\\anaconda3\\lib\\site-packages (from dateparser->GoogleNews) (2022.7.9)\n",
      "Requirement already satisfied: pytz in c:\\users\\anushasiby\\anaconda3\\lib\\site-packages (from dateparser->GoogleNews) (2022.7)\n",
      "Requirement already satisfied: tzlocal in c:\\users\\anushasiby\\anaconda3\\lib\\site-packages (from dateparser->GoogleNews) (5.0.1)\n",
      "Requirement already satisfied: six>=1.5 in c:\\users\\anushasiby\\anaconda3\\lib\\site-packages (from python-dateutil->GoogleNews) (1.16.0)\n",
      "Requirement already satisfied: tzdata in c:\\users\\anushasiby\\anaconda3\\lib\\site-packages (from tzlocal->dateparser->GoogleNews) (2023.3)\n",
      "Note: you may need to restart the kernel to use updated packages.\n"
     ]
    }
   ],
   "source": [
    "pip install GoogleNews"
   ]
  },
  {
   "cell_type": "code",
   "execution_count": 3,
   "id": "f9c42723",
   "metadata": {
    "scrolled": true
   },
   "outputs": [
    {
     "name": "stdout",
     "output_type": "stream",
     "text": [
      "                                               title  desc        date  \\\n",
      "0  Apple Plans to Turn Locked iPhones Into Smart ...  None  3 days ago   \n",
      "1  With another boring update on the way, does Ap...  None  2 days ago   \n",
      "2  Here's How Apple Is Making iPhone More Useful ...  None  2 days ago   \n",
      "3  Rumored Apple Pencil feature could be a game-c...  None   Yesterday   \n",
      "4     Apple Stock: It's Time To Rethink The Dividend  None   Yesterday   \n",
      "\n",
      "                    datetime  \\\n",
      "0 2023-05-24 11:12:05.920441   \n",
      "1 2023-05-25 11:12:05.920441   \n",
      "2 2023-05-25 11:12:05.920441   \n",
      "3 2023-05-26 11:12:05.920441   \n",
      "4 2023-05-26 11:12:05.920441   \n",
      "\n",
      "                                                link  \\\n",
      "0  news.google.com/./articles/CBMiemh0dHBzOi8vd3d...   \n",
      "1  news.google.com/./articles/CBMiVWh0dHBzOi8vd3d...   \n",
      "2  news.google.com/./articles/CBMiTGh0dHBzOi8vZml...   \n",
      "3  news.google.com/./articles/CBMiamh0dHBzOi8vd3d...   \n",
      "4  news.google.com/./articles/CBMiUmh0dHBzOi8vd3d...   \n",
      "\n",
      "                                                 img          media  site  \n",
      "0  https://lh3.googleusercontent.com/proxy/l97eYd...      Bloomberg  None  \n",
      "1  https://lh3.googleusercontent.com/proxy/Ol3pHQ...       Macworld  None  \n",
      "2  https://lh3.googleusercontent.com/proxy/FbBR6G...  Yahoo Finance  None  \n",
      "3  https://lh3.googleusercontent.com/YwroNBJq4UKY...    Tom's Guide  None  \n",
      "4  https://lh3.googleusercontent.com/br72SINUoS0K...      TheStreet  None  \n"
     ]
    }
   ],
   "source": [
    "###The purpose of this assignment is to extract data from google news.\n",
    "###Completed by Anusha Siby on May 26, 2023\n",
    "from GoogleNews import GoogleNews\n",
    "import pandas as data_visualisation\n",
    "\n",
    "###Initialization of google news\n",
    "go_api= GoogleNews()\n",
    "###Enable to throw the exception\n",
    "go_api.enableException(True)\n",
    "###Choose language and region\n",
    "go_api = GoogleNews(lang='en', region='US')\n",
    "### pull out the data for past 7 days\n",
    "go_api = GoogleNews(period='7d')\n",
    "###Set encode\n",
    "go_api = GoogleNews(encode='utf-8')\n",
    "###Gather all datas related to APLLE\n",
    "go_api.get_news('APPLE')\n",
    "### Visualization of  data\n",
    "result = data_visualisation.DataFrame(go_api.results())\n",
    "result.head()\n",
    "print(result.head())"
   ]
  },
  {
   "cell_type": "code",
   "execution_count": 6,
   "id": "78031f43",
   "metadata": {},
   "outputs": [],
   "source": [
    "### To print output in a table formats\n",
    "result = data_visualisation.DataFrame(go_api.results())"
   ]
  },
  {
   "cell_type": "code",
   "execution_count": 7,
   "id": "21214028",
   "metadata": {},
   "outputs": [
    {
     "data": {
      "text/html": [
       "<div>\n",
       "<style scoped>\n",
       "    .dataframe tbody tr th:only-of-type {\n",
       "        vertical-align: middle;\n",
       "    }\n",
       "\n",
       "    .dataframe tbody tr th {\n",
       "        vertical-align: top;\n",
       "    }\n",
       "\n",
       "    .dataframe thead th {\n",
       "        text-align: right;\n",
       "    }\n",
       "</style>\n",
       "<table border=\"1\" class=\"dataframe\">\n",
       "  <thead>\n",
       "    <tr style=\"text-align: right;\">\n",
       "      <th></th>\n",
       "      <th>title</th>\n",
       "      <th>desc</th>\n",
       "      <th>date</th>\n",
       "      <th>datetime</th>\n",
       "      <th>link</th>\n",
       "      <th>img</th>\n",
       "      <th>media</th>\n",
       "      <th>site</th>\n",
       "    </tr>\n",
       "  </thead>\n",
       "  <tbody>\n",
       "    <tr>\n",
       "      <th>0</th>\n",
       "      <td>Apple Plans to Turn Locked iPhones Into Smart ...</td>\n",
       "      <td>None</td>\n",
       "      <td>3 days ago</td>\n",
       "      <td>2023-05-24 11:12:05.920441</td>\n",
       "      <td>news.google.com/./articles/CBMiemh0dHBzOi8vd3d...</td>\n",
       "      <td>https://lh3.googleusercontent.com/proxy/l97eYd...</td>\n",
       "      <td>Bloomberg</td>\n",
       "      <td>None</td>\n",
       "    </tr>\n",
       "    <tr>\n",
       "      <th>1</th>\n",
       "      <td>With another boring update on the way, does Ap...</td>\n",
       "      <td>None</td>\n",
       "      <td>2 days ago</td>\n",
       "      <td>2023-05-25 11:12:05.920441</td>\n",
       "      <td>news.google.com/./articles/CBMiVWh0dHBzOi8vd3d...</td>\n",
       "      <td>https://lh3.googleusercontent.com/proxy/Ol3pHQ...</td>\n",
       "      <td>Macworld</td>\n",
       "      <td>None</td>\n",
       "    </tr>\n",
       "    <tr>\n",
       "      <th>2</th>\n",
       "      <td>Here's How Apple Is Making iPhone More Useful ...</td>\n",
       "      <td>None</td>\n",
       "      <td>2 days ago</td>\n",
       "      <td>2023-05-25 11:12:05.920441</td>\n",
       "      <td>news.google.com/./articles/CBMiTGh0dHBzOi8vZml...</td>\n",
       "      <td>https://lh3.googleusercontent.com/proxy/FbBR6G...</td>\n",
       "      <td>Yahoo Finance</td>\n",
       "      <td>None</td>\n",
       "    </tr>\n",
       "    <tr>\n",
       "      <th>3</th>\n",
       "      <td>Rumored Apple Pencil feature could be a game-c...</td>\n",
       "      <td>None</td>\n",
       "      <td>Yesterday</td>\n",
       "      <td>2023-05-26 11:12:05.920441</td>\n",
       "      <td>news.google.com/./articles/CBMiamh0dHBzOi8vd3d...</td>\n",
       "      <td>https://lh3.googleusercontent.com/YwroNBJq4UKY...</td>\n",
       "      <td>Tom's Guide</td>\n",
       "      <td>None</td>\n",
       "    </tr>\n",
       "    <tr>\n",
       "      <th>4</th>\n",
       "      <td>Apple Stock: It's Time To Rethink The Dividend</td>\n",
       "      <td>None</td>\n",
       "      <td>Yesterday</td>\n",
       "      <td>2023-05-26 11:12:05.920441</td>\n",
       "      <td>news.google.com/./articles/CBMiUmh0dHBzOi8vd3d...</td>\n",
       "      <td>https://lh3.googleusercontent.com/br72SINUoS0K...</td>\n",
       "      <td>TheStreet</td>\n",
       "      <td>None</td>\n",
       "    </tr>\n",
       "  </tbody>\n",
       "</table>\n",
       "</div>"
      ],
      "text/plain": [
       "                                               title  desc        date  \\\n",
       "0  Apple Plans to Turn Locked iPhones Into Smart ...  None  3 days ago   \n",
       "1  With another boring update on the way, does Ap...  None  2 days ago   \n",
       "2  Here's How Apple Is Making iPhone More Useful ...  None  2 days ago   \n",
       "3  Rumored Apple Pencil feature could be a game-c...  None   Yesterday   \n",
       "4     Apple Stock: It's Time To Rethink The Dividend  None   Yesterday   \n",
       "\n",
       "                    datetime  \\\n",
       "0 2023-05-24 11:12:05.920441   \n",
       "1 2023-05-25 11:12:05.920441   \n",
       "2 2023-05-25 11:12:05.920441   \n",
       "3 2023-05-26 11:12:05.920441   \n",
       "4 2023-05-26 11:12:05.920441   \n",
       "\n",
       "                                                link  \\\n",
       "0  news.google.com/./articles/CBMiemh0dHBzOi8vd3d...   \n",
       "1  news.google.com/./articles/CBMiVWh0dHBzOi8vd3d...   \n",
       "2  news.google.com/./articles/CBMiTGh0dHBzOi8vZml...   \n",
       "3  news.google.com/./articles/CBMiamh0dHBzOi8vd3d...   \n",
       "4  news.google.com/./articles/CBMiUmh0dHBzOi8vd3d...   \n",
       "\n",
       "                                                 img          media  site  \n",
       "0  https://lh3.googleusercontent.com/proxy/l97eYd...      Bloomberg  None  \n",
       "1  https://lh3.googleusercontent.com/proxy/Ol3pHQ...       Macworld  None  \n",
       "2  https://lh3.googleusercontent.com/proxy/FbBR6G...  Yahoo Finance  None  \n",
       "3  https://lh3.googleusercontent.com/YwroNBJq4UKY...    Tom's Guide  None  \n",
       "4  https://lh3.googleusercontent.com/br72SINUoS0K...      TheStreet  None  "
      ]
     },
     "execution_count": 7,
     "metadata": {},
     "output_type": "execute_result"
    }
   ],
   "source": [
    "result.head()"
   ]
  },
  {
   "cell_type": "code",
   "execution_count": null,
   "id": "aeb16705",
   "metadata": {},
   "outputs": [],
   "source": []
  }
 ],
 "metadata": {
  "kernelspec": {
   "display_name": "Python 3 (ipykernel)",
   "language": "python",
   "name": "python3"
  },
  "language_info": {
   "codemirror_mode": {
    "name": "ipython",
    "version": 3
   },
   "file_extension": ".py",
   "mimetype": "text/x-python",
   "name": "python",
   "nbconvert_exporter": "python",
   "pygments_lexer": "ipython3",
   "version": "3.10.9"
  }
 },
 "nbformat": 4,
 "nbformat_minor": 5
}
